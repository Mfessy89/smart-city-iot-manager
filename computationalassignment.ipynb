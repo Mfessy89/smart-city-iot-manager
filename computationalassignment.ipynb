{
 "cells": [
  {
   "cell_type": "code",
   "execution_count": 6,
   "id": "852da179-483d-49e6-9baa-44b50b04e8fb",
   "metadata": {},
   "outputs": [],
   "source": [
    "users = {}  # dictionary to store registered users"
   ]
  },
  {
   "cell_type": "code",
   "execution_count": 7,
   "id": "a1d5c025-f84b-4265-86c5-8c9419a6d948",
   "metadata": {},
   "outputs": [],
   "source": [
    "def register_user():                                                        \n",
    "    \"\"\"register a new user with username and password\"\"\"\n",
    "    username = input(\"Enter a username (must contain '_' and max 8 characters): \") #asking the user to enter username\n",
    "\n",
    "    # check username validity\n",
    "    if '_' not in username or len(username) > 8 or username in users: # check if the username meets the specifications\n",
    "        print(\"Invalid or duplicate username, please try again\")\n",
    "        return\n",
    "\n",
    "    password = input(\"Enter password (at least 10 characters, must contain a number, a capital letter and a special character): \")\n",
    "\n",
    "    # password validation, \n",
    "    if len(password) < 10:\n",
    "        print(\"Password too short, please try again\")\n",
    "        return11\n",
    "    if not any(char.isdigit() for char in password): #char,isdigit checks if the password contains a number\n",
    "        print(\"Password must contain at least one number\")\n",
    "        return\n",
    "    if not any(char.isupper() for char in password): #,isupper checks for capital letters\n",
    "        print(\"Password must contain at least one capital letter\")\n",
    "        return\n",
    "    if not any(char in \"!@#$%^&*()-_=+[]{};:,<.>/?\\\\|\" for char in password): #here we are checking for special characters\n",
    "        print(\"Password must contain at least one special character\")\n",
    "        return\n",
    "\n",
    "    # get other details, the user is further asked for more informatons and the .strip is used to remove any whitelines and spaces in the string\n",
    "    first_name = input(\"Enter your first name: \").strip() \n",
    "    last_name = input(\"Enter your last name: \").strip()\n",
    "    if not first_name or not last_name:\n",
    "        print(\"First and last name cannot be empty\")\n",
    "        return\n",
    "\n",
    "    role = input(\"Enter role (City Administrator / IoT Technician / Data Analyst): \").strip()\n",
    "    if role not in [\"City Administrator\", \"IoT Technician\", \"Data Analyst\"]:\n",
    "        print(\"Invalid role selected\")\n",
    "        return\n",
    "\n",
    "    department = input(\"Enter department (Traffic Management / Environmental Monitoring / Public Safety / Infrastructure Maintenance): \").strip()\n",
    "    if department not in [\"Traffic Management\", \"Environmental Monitoring\", \"Public Safety\", \"Infrastructure Maintenance\"]:\n",
    "        print(\"Invalid department selected\")\n",
    "        return\n",
    "\n",
    "    # save user info, the info is the saved if every specification is met\n",
    "    users[username] = {\n",
    "        \"password\": password,\n",
    "        \"first_name\": first_name,\n",
    "        \"last_name\": last_name,\n",
    "        \"role\": role,\n",
    "        \"department\": department\n",
    "    }\n",
    "\n",
    "    print(f\"User '{username}' registered successfully!\\n\")"
   ]
  },
  {
   "cell_type": "code",
   "execution_count": 8,
   "id": "cafe2d91-6fb9-4b3b-9c48-95101133c748",
   "metadata": {},
   "outputs": [],
   "source": [
    "def login_user(): #the cell applies the same logic as the one for registration\n",
    "    \"\"\"login with existing username and password\"\"\"\n",
    "    username = input(\"Enter your username: \")\n",
    "    password = input(\"Enter your password: \")\n",
    "\n",
    "    if username in users and users[username][\"password\"] == password:\n",
    "        u = users[username]\n",
    "        print(f\"Welcome {u['role']} {u['first_name']} {u['last_name']} from {u['department']}!\\n\")\n",
    "    else:\n",
    "        print(\"Invalid credentials. Please try again.\\n\")"
   ]
  },
  {
   "cell_type": "code",
   "execution_count": 9,
   "id": "63f6433a-1205-4083-a5e4-3fb57c83ae08",
   "metadata": {},
   "outputs": [],
   "source": [
    "def system_info():\n",
    "    \"\"\"display system information\"\"\"\n",
    "    print(f\"System running... {len(users)} user(s) registered.\\n\")"
   ]
  },
  {
   "cell_type": "code",
   "execution_count": 10,
   "id": "2934754f-83ef-4146-8e45-9bfef64f1a4f",
   "metadata": {},
   "outputs": [
    {
     "name": "stdout",
     "output_type": "stream",
     "text": [
      "=== Smart City IoT Device Manager ===\n",
      "1. Register\n",
      "2. Login\n",
      "3. System Info\n",
      "4. Exit\n"
     ]
    },
    {
     "name": "stdin",
     "output_type": "stream",
     "text": [
      "Enter your choice:  1\n",
      "Enter a username (must contain '_' and max 8 characters):  Mfesane_\n",
      "Enter password (at least 10 characters, must contain a number, a capital letter and a special character):  Mfesane2001!\n",
      "Enter your first name:  Mfesane\n",
      "Enter your last name:  Kunju\n",
      "Enter role (City Administrator / IoT Technician / Data Analyst):  City Administrator\n",
      "Enter department (Traffic Management / Environmental Monitoring / Public Safety / Infrastructure Maintenance):  Public Safety\n"
     ]
    },
    {
     "name": "stdout",
     "output_type": "stream",
     "text": [
      "User 'Mfesane_' registered successfully!\n",
      "\n",
      "=== Smart City IoT Device Manager ===\n",
      "1. Register\n",
      "2. Login\n",
      "3. System Info\n",
      "4. Exit\n"
     ]
    },
    {
     "name": "stdin",
     "output_type": "stream",
     "text": [
      "Enter your choice:  2\n",
      "Enter your username:  Mfesane_\n",
      "Enter your password:  Mfesane2001!\n"
     ]
    },
    {
     "name": "stdout",
     "output_type": "stream",
     "text": [
      "Welcome City Administrator Mfesane Kunju from Public Safety!\n",
      "\n",
      "=== Smart City IoT Device Manager ===\n",
      "1. Register\n",
      "2. Login\n",
      "3. System Info\n",
      "4. Exit\n"
     ]
    },
    {
     "name": "stdin",
     "output_type": "stream",
     "text": [
      "Enter your choice:  3\n"
     ]
    },
    {
     "name": "stdout",
     "output_type": "stream",
     "text": [
      "System running... 1 user(s) registered.\n",
      "\n",
      "=== Smart City IoT Device Manager ===\n",
      "1. Register\n",
      "2. Login\n",
      "3. System Info\n",
      "4. Exit\n"
     ]
    },
    {
     "name": "stdin",
     "output_type": "stream",
     "text": [
      "Enter your choice:  1\n",
      "Enter a username (must contain '_' and max 8 characters):  Mfesa\n"
     ]
    },
    {
     "name": "stdout",
     "output_type": "stream",
     "text": [
      "Invalid or duplicate username, please try again\n",
      "=== Smart City IoT Device Manager ===\n",
      "1. Register\n",
      "2. Login\n",
      "3. System Info\n",
      "4. Exit\n"
     ]
    },
    {
     "name": "stdin",
     "output_type": "stream",
     "text": [
      "Enter your choice:  2\n",
      "Enter your username:  Mfesa\n",
      "Enter your password:  Kuju\n"
     ]
    },
    {
     "name": "stdout",
     "output_type": "stream",
     "text": [
      "Invalid credentials. Please try again.\n",
      "\n",
      "=== Smart City IoT Device Manager ===\n",
      "1. Register\n",
      "2. Login\n",
      "3. System Info\n",
      "4. Exit\n"
     ]
    },
    {
     "name": "stdin",
     "output_type": "stream",
     "text": [
      "Enter your choice:  4\n"
     ]
    },
    {
     "name": "stdout",
     "output_type": "stream",
     "text": [
      "Goodbye!\n"
     ]
    }
   ],
   "source": [
    "def main():\n",
    "    while True:\n",
    "        print(\"=== Smart City IoT Device Manager ===\")\n",
    "        print(\"1. Register\")\n",
    "        print(\"2. Login\")\n",
    "        print(\"3. System Info\")\n",
    "        print(\"4. Exit\")\n",
    "\n",
    "        choice = input(\"Enter your choice: \")\n",
    "\n",
    "        if choice == \"1\":\n",
    "            register_user()\n",
    "        elif choice == \"2\":\n",
    "            login_user()\n",
    "        elif choice == \"3\":\n",
    "            system_info()\n",
    "        elif choice == \"4\":\n",
    "            print(\"Goodbye!\")\n",
    "            break\n",
    "        else:\n",
    "            print(\"Invalid choice, please try again.\\n\")\n",
    "\n",
    "\n",
    "if __name__ == \"__main__\":\n",
    "    main()"
   ]
  },
  {
   "cell_type": "markdown",
   "id": "2ea7e0af-b3ca-4ca3-b3f9-28dc5cadad46",
   "metadata": {},
   "source": [
    "The code uses the while TRUE statement to check if the selection of the user is actually in the registered selections, then uses the (if, elif and else) statements to loop through the choices 1,2,3 and 4"
   ]
  }
 ],
 "metadata": {
  "kernelspec": {
   "display_name": "Python 3 (ipykernel)",
   "language": "python",
   "name": "python3"
  },
  "language_info": {
   "codemirror_mode": {
    "name": "ipython",
    "version": 3
   },
   "file_extension": ".py",
   "mimetype": "text/x-python",
   "name": "python",
   "nbconvert_exporter": "python",
   "pygments_lexer": "ipython3",
   "version": "3.13.7"
  }
 },
 "nbformat": 4,
 "nbformat_minor": 5
}
